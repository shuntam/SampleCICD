{
 "cells": [
  {
   "cell_type": "code",
   "execution_count": 3,
   "metadata": {},
   "outputs": [],
   "source": [
    "#Black Scholes formula\n",
    "#Required parameters\n",
    "#S- Underlying stock price\n",
    "#K- strike price\n",
    "#r- risk free rate\n",
    "#T- time to expiry\n",
    "#v- implied vol\n",
    "#Formula for call max(S-K,0)\n",
    "#Using closed form solutions for Call option \n",
    "#StN(d1)-Ke-r(T-t)N(d2)\n",
    "#d1 = (log(St/K) + (r+(v*v)/2)(T-t))/v(T-t)\n",
    "#d2 = d1-(v*sqrt(T-t))"
   ]
  },
  {
   "cell_type": "code",
   "execution_count": 11,
   "metadata": {},
   "outputs": [],
   "source": [
    "from math import log, pi, sqrt, exp"
   ]
  },
  {
   "cell_type": "code",
   "execution_count": 6,
   "metadata": {},
   "outputs": [],
   "source": [
    "S=188.16\n",
    "K=222.15\n",
    "T=2\n",
    "r=0.05\n",
    "v=0.04"
   ]
  },
  {
   "cell_type": "code",
   "execution_count": 9,
   "metadata": {},
   "outputs": [],
   "source": [
    "d1 = (log(S/K) + (r+(v*v)/2)*T)/v*T\n",
    "d2 = d1-(v*sqrt(T))"
   ]
  },
  {
   "cell_type": "code",
   "execution_count": 12,
   "metadata": {},
   "outputs": [],
   "source": [
    "def norm_pdf(x) :\n",
    "    return (1.0/((2*pi)**0.5))*exp(-0.5*x*x)"
   ]
  },
  {
   "cell_type": "code",
   "execution_count": 15,
   "metadata": {},
   "outputs": [],
   "source": [
    "def norm_cdf(x) :\n",
    "    k = 1.0/(1.0+0.2316419*x)\n",
    "    k_sum = k*(0.319381530 + k*(-0.356563782 + k*(1.781477937 + k *(-1.821255978 + 1.330274429 *k))))\n",
    "    \n",
    "    if x>=0.0 :\n",
    "        return (1.0-(1.0/((2*pi)**0.5))*exp(-0.5*x*x)*k_sum)\n",
    "    else :\n",
    "        return 1.0-norm_cdf(-x) #function calls itself if x is negative"
   ]
  },
  {
   "cell_type": "code",
   "execution_count": 16,
   "metadata": {},
   "outputs": [],
   "source": [
    "call_price = S*norm_cdf(d1)-K*norm_cdf(d2)*exp(-r*T)"
   ]
  },
  {
   "cell_type": "code",
   "execution_count": 18,
   "metadata": {},
   "outputs": [],
   "source": [
    "put_price = -S*norm_cdf(-d1) + K*norm_cdf(-d2)*exp(-r*T)"
   ]
  },
  {
   "cell_type": "code",
   "execution_count": 19,
   "metadata": {},
   "outputs": [],
   "source": [
    "#Calculate the greeks delta,gamma, theta,vega,rho"
   ]
  },
  {
   "cell_type": "code",
   "execution_count": 20,
   "metadata": {},
   "outputs": [],
   "source": [
    "from scipy.stats import norm"
   ]
  },
  {
   "cell_type": "code",
   "execution_count": 21,
   "metadata": {},
   "outputs": [],
   "source": [
    "delta = -norm.cdf(-d1)"
   ]
  },
  {
   "cell_type": "code",
   "execution_count": 22,
   "metadata": {},
   "outputs": [],
   "source": [
    "gamma = norm.pdf(d1)/S*v*sqrt(T)"
   ]
  },
  {
   "cell_type": "code",
   "execution_count": 23,
   "metadata": {},
   "outputs": [],
   "source": [
    "vega = S*sqrt(T)*norm.pdf(d1)"
   ]
  },
  {
   "cell_type": "code",
   "execution_count": null,
   "metadata": {},
   "outputs": [],
   "source": []
  }
 ],
 "metadata": {
  "kernelspec": {
   "display_name": "Python 3",
   "language": "python",
   "name": "python3"
  },
  "language_info": {
   "codemirror_mode": {
    "name": "ipython",
    "version": 3
   },
   "file_extension": ".py",
   "mimetype": "text/x-python",
   "name": "python",
   "nbconvert_exporter": "python",
   "pygments_lexer": "ipython3",
   "version": "3.7.3"
  }
 },
 "nbformat": 4,
 "nbformat_minor": 2
}
